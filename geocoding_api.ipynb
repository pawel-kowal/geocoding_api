{
 "cells": [
  {
   "cell_type": "code",
   "execution_count": 12,
   "id": "55e4545a",
   "metadata": {},
   "outputs": [],
   "source": [
    "import requests\n",
    "import geopandas as gpd\n",
    "import pandas as pd\n",
    "from shapely.geometry import Point"
   ]
  },
  {
   "cell_type": "code",
   "execution_count": 2,
   "id": "d732d263",
   "metadata": {},
   "outputs": [],
   "source": [
    "api_key = 'api_key'"
   ]
  },
  {
   "cell_type": "code",
   "execution_count": 3,
   "id": "46b0ab4c",
   "metadata": {},
   "outputs": [],
   "source": [
    "def get_geocode_data(address, api_key):\n",
    "    url = 'https://maps.googleapis.com/maps/api/geocode/json'\n",
    "    params = {\n",
    "        'address':address,\n",
    "        'key':api_key\n",
    "    }\n",
    "    try:\n",
    "        response = requests.get(url, params=params)\n",
    "        response.raise_for_status() # Raise an exception for HTTP Headers\n",
    "        data = response.json()\n",
    "        return data['results']\n",
    "    except request.exception.RequestException as e:\n",
    "        return f'An error ocurres: {e}'\n",
    "    except KeyError:\n",
    "        return 'Unable to parse the response'"
   ]
  },
  {
   "cell_type": "code",
   "execution_count": 22,
   "id": "61f19cb4",
   "metadata": {},
   "outputs": [],
   "source": [
    "def get_coords_from_geocode_data(address, api_key):\n",
    "    df = get_geocode_data(address, api_key)\n",
    "    latitude = df[0]['geometry']['location']['lat']\n",
    "    longitude = df[0]['geometry']['location']['lng']\n",
    "    return latitude, longitude"
   ]
  },
  {
   "cell_type": "code",
   "execution_count": 46,
   "id": "d535b932",
   "metadata": {},
   "outputs": [],
   "source": [
    "def distance(address_1, address_2, api_key):\n",
    "    lat_1, lon_1 = get_coords_from_geocode_data(address_1, api_key)\n",
    "    lat_2, lon_2 = get_coords_from_geocode_data(address_2, api_key)\n",
    "    pnt1 = Point(lat_1, lon_1)\n",
    "    pnt2 = Point(lat_2, lon_2)\n",
    "    points_df = gpd.GeoDataFrame({'geometry': [pnt1, pnt2]}, crs='EPSG:2180')\n",
    "    points_df = points_df.to_crs('EPSG:2180')\n",
    "    points_df2 = points_df.shift() #We shift the dataframe by 1 to align pnt1 with pnt2\n",
    "    return points_df.distance(points_df2)"
   ]
  },
  {
   "cell_type": "code",
   "execution_count": 51,
   "id": "b5ca8f2d",
   "metadata": {},
   "outputs": [],
   "source": [
    "def distance(address_1, address_2, api_key): #z chatuGPT, do sprawdzenia kodowanie EPSG\n",
    "    lat_1, lon_1 = get_coords_from_geocode_data(address_1, api_key)\n",
    "    lat_2, lon_2 = get_coords_from_geocode_data(address_2, api_key)\n",
    "    pnt1 = Point(lon_1, lat_1)\n",
    "    pnt2 = Point(lon_2, lat_2)\n",
    "    df1 = gpd.GeoDataFrame({'geometry': [pnt1]}, crs='EPSG:4326')\n",
    "    df2 = gpd.GeoDataFrame({'geometry': [pnt2]}, crs='EPSG:4326')\n",
    "    df1 = df1.to_crs('EPSG:2180')\n",
    "    df2 = df2.to_crs('EPSG:2180')\n",
    "    distance_meters = df1.distance(df2).values[0]\n",
    "    return distance_meters"
   ]
  },
  {
   "cell_type": "code",
   "execution_count": 53,
   "id": "6f24a951",
   "metadata": {},
   "outputs": [
    {
     "name": "stdout",
     "output_type": "stream",
     "text": [
      "Współrzędne LX Postępu 21C: 52.18N, 21.0E\n",
      "Współrzędne LX Domaniewska 52: 52.18N, 21.0E\n",
      "Odległość: 0.406km\n"
     ]
    }
   ],
   "source": [
    "add_1 = 'LX Postępu 21C'\n",
    "add_2 = 'LX Domaniewska 52'\n",
    "print(f'Współrzędne {add_1}: {round(get_coords_from_geocode_data(add_1, api_key)[0],2)}N, {round(get_coords_from_geocode_data(add_1, api_key)[1],2)}E')\n",
    "print(f'Współrzędne {add_2}: {round(get_coords_from_geocode_data(add_2, api_key)[0],2)}N, {round(get_coords_from_geocode_data(add_1, api_key)[1],2)}E')\n",
    "print(f\"Odległość: {round(distance(add_1, add_2, api_key)/1000,3)}km\")"
   ]
  },
  {
   "cell_type": "code",
   "execution_count": null,
   "id": "120f9fea",
   "metadata": {},
   "outputs": [],
   "source": []
  }
 ],
 "metadata": {
  "kernelspec": {
   "display_name": "Python 3 (ipykernel)",
   "language": "python",
   "name": "python3"
  },
  "language_info": {
   "codemirror_mode": {
    "name": "ipython",
    "version": 3
   },
   "file_extension": ".py",
   "mimetype": "text/x-python",
   "name": "python",
   "nbconvert_exporter": "python",
   "pygments_lexer": "ipython3",
   "version": "3.11.5"
  }
 },
 "nbformat": 4,
 "nbformat_minor": 5
}
